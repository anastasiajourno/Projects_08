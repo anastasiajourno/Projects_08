{
 "cells": [
  {
   "cell_type": "code",
   "execution_count": 1,
   "metadata": {},
   "outputs": [],
   "source": [
    "import pandas as pd\n",
    "from bs4 import BeautifulSoup\n",
    "import requests\n",
    "from urllib.parse import urlparse"
   ]
  },
  {
   "cell_type": "code",
   "execution_count": 14,
   "metadata": {},
   "outputs": [],
   "source": [
    "pd.set_option(\"display.max_colwidth\", 200)\n",
    "pd.set_option(\"display.max_columns\", 200)"
   ]
  },
  {
   "cell_type": "code",
   "execution_count": 2,
   "metadata": {},
   "outputs": [],
   "source": [
    "url = 'https://bilim.akipress.org/profiles:3/school/list'"
   ]
  },
  {
   "cell_type": "code",
   "execution_count": null,
   "metadata": {},
   "outputs": [],
   "source": [
    "#https://bilim.akipress.org/profiles:3/school/list//page:2\n",
    "#https://bilim.akipress.org/profiles:3/school/list//page:23"
   ]
  },
  {
   "cell_type": "code",
   "execution_count": null,
   "metadata": {},
   "outputs": [],
   "source": [
    "#url = https://www.drugbank.ca/drugs?page=\" + str(page_number)"
   ]
  },
  {
   "cell_type": "code",
   "execution_count": 3,
   "metadata": {},
   "outputs": [],
   "source": [
    "response = requests.get(url)"
   ]
  },
  {
   "cell_type": "code",
   "execution_count": 4,
   "metadata": {},
   "outputs": [],
   "source": [
    "soup = BeautifulSoup(response.text, \"html.parser\")"
   ]
  },
  {
   "cell_type": "code",
   "execution_count": 5,
   "metadata": {},
   "outputs": [],
   "source": [
    "# find where the data we want resides (a tag, class name, table number)\n",
    "table = soup.select('table', class_='table-striped')"
   ]
  },
  {
   "cell_type": "code",
   "execution_count": 6,
   "metadata": {},
   "outputs": [],
   "source": [
    "table = table[0]"
   ]
  },
  {
   "cell_type": "code",
   "execution_count": 7,
   "metadata": {},
   "outputs": [],
   "source": [
    "# find_all tr\n",
    "schools_trs = soup.select('tr')"
   ]
  },
  {
   "cell_type": "code",
   "execution_count": 8,
   "metadata": {},
   "outputs": [
    {
     "data": {
      "text/plain": [
       "['Наименование', 'Адрес']"
      ]
     },
     "execution_count": 8,
     "metadata": {},
     "output_type": "execute_result"
    }
   ],
   "source": [
    "# separate the first tr tag row for the header\n",
    "#schools_th = schools_trs[0].select('th')\n",
    "#schools_header = []\n",
    "#for (i,th) in enumerate(schools_th):\n",
    "#    if(i >= 1):\n",
    "#        schools_header.append(th.text)\n",
    "#schools_header"
   ]
  },
  {
   "cell_type": "code",
   "execution_count": 10,
   "metadata": {},
   "outputs": [],
   "source": [
    "# for each tr, find tds then for each td get text inside, then save to new array\n",
    "schools_list = []\n",
    "for tr in schools_trs[1:]:\n",
    "    tds = tr.select('td')\n",
    "    td_list = []\n",
    "    for (i, td) in enumerate(tds):\n",
    "        if(i >= 1):\n",
    "            td_list.append(td.text)\n",
    "        #if it's the second column, get the href link also\n",
    "        if(i == 1):\n",
    "            td_list.append(td.find('a')['href']) \n",
    "    schools_list.append(td_list)"
   ]
  },
  {
   "cell_type": "code",
   "execution_count": 11,
   "metadata": {},
   "outputs": [],
   "source": [
    "df = pd.DataFrame(schools_list, columns=[\"name\", \"link\", \"address\"])"
   ]
  },
  {
   "cell_type": "code",
   "execution_count": 15,
   "metadata": {},
   "outputs": [],
   "source": [
    "df['urls'] = (\"https://bilim.akipress.org\"+df['link'])"
   ]
  },
  {
   "cell_type": "code",
   "execution_count": 16,
   "metadata": {},
   "outputs": [],
   "source": [
    "df['contents'] = df.urls.apply(lambda url: requests.get(url).text)"
   ]
  },
  {
   "cell_type": "code",
   "execution_count": 34,
   "metadata": {},
   "outputs": [],
   "source": [
    "def get_score(content):\n",
    "    soup = BeautifulSoup(content)\n",
    "    tables = soup.select(\"table\")\n",
    "    try:\n",
    "        trs = tables[2].find_all('tr')\n",
    "        for (i, tr) in enumerate (trs):\n",
    "           #if it's the second row, go there\n",
    "            if (i == 1):\n",
    "                tds = tr.find_all('td')\n",
    "                for (i, td) in enumerate(tds):\n",
    "           # if it's the third column, get the value\n",
    "                    if(i == 2):\n",
    "                        score = td.text\n",
    "        return score\n",
    "    except:\n",
    "        pass"
   ]
  },
  {
   "cell_type": "code",
   "execution_count": 35,
   "metadata": {},
   "outputs": [],
   "source": [
    "score = df.contents.apply(get_score)\n",
    "score = score.to_frame().reset_index()\n",
    "score.columns = ['index', 'value']"
   ]
  },
  {
   "cell_type": "code",
   "execution_count": 36,
   "metadata": {},
   "outputs": [
    {
     "data": {
      "text/html": [
       "<div>\n",
       "<style scoped>\n",
       "    .dataframe tbody tr th:only-of-type {\n",
       "        vertical-align: middle;\n",
       "    }\n",
       "\n",
       "    .dataframe tbody tr th {\n",
       "        vertical-align: top;\n",
       "    }\n",
       "\n",
       "    .dataframe thead th {\n",
       "        text-align: right;\n",
       "    }\n",
       "</style>\n",
       "<table border=\"1\" class=\"dataframe\">\n",
       "  <thead>\n",
       "    <tr style=\"text-align: right;\">\n",
       "      <th></th>\n",
       "      <th>name</th>\n",
       "      <th>link</th>\n",
       "      <th>address</th>\n",
       "      <th>urls</th>\n",
       "      <th>contents</th>\n",
       "      <th>score</th>\n",
       "    </tr>\n",
       "  </thead>\n",
       "  <tbody>\n",
       "    <tr>\n",
       "      <th>0</th>\n",
       "      <td>СШ им.Огонбаева</td>\n",
       "      <td>/profile:715/ssh-imogonbaeva/?from=bilim&amp;place=list</td>\n",
       "      <td>Таласская область, Таласский район c.Кек-Кашат 724009 ул. Школьная 1</td>\n",
       "      <td>https://bilim.akipress.org/profile:715/ssh-imogonbaeva/?from=bilim&amp;place=list</td>\n",
       "      <td>\\r\\n&lt;!doctype html&gt;\\n&lt;html lang=\"ru\" data-tip=\"222\"&gt;\\n&lt;head&gt;\\n    &lt;meta charset=\"UTF-8\"&gt;\\n    &lt;title&gt;СШ им.Огонбаева - адрес, новости, отзывы, выпускники — Билим АКИpress&lt;/title&gt;\\n    &lt;meta name=\"...</td>\n",
       "      <td>96.8</td>\n",
       "    </tr>\n",
       "    <tr>\n",
       "      <th>1</th>\n",
       "      <td>УВК школа-гимназия №70</td>\n",
       "      <td>/profile:2186/uvk-shkolagimnaziya-70/?from=bilim&amp;place=list</td>\n",
       "      <td>Бишкек, Первомайский район  Боконбаева, 153</td>\n",
       "      <td>https://bilim.akipress.org/profile:2186/uvk-shkolagimnaziya-70/?from=bilim&amp;place=list</td>\n",
       "      <td>\\r\\n&lt;!doctype html&gt;\\n&lt;html lang=\"ru\" data-tip=\"222\"&gt;\\n&lt;head&gt;\\n    &lt;meta charset=\"UTF-8\"&gt;\\n    &lt;title&gt;УВК школа-гимназия №70 - адрес, новости, отзывы, выпускники — Билим АКИpress&lt;/title&gt;\\n    &lt;meta...</td>\n",
       "      <td>нет</td>\n",
       "    </tr>\n",
       "    <tr>\n",
       "      <th>2</th>\n",
       "      <td>УВК школа-гимназия №17 им. А.Пушкина</td>\n",
       "      <td>/profile:10/uvk-shkolagimnaziya-17-im-apushkina/?from=bilim&amp;place=list</td>\n",
       "      <td>Бишкек, Октябрьский район  Бишкек, 4 мкр, 31</td>\n",
       "      <td>https://bilim.akipress.org/profile:10/uvk-shkolagimnaziya-17-im-apushkina/?from=bilim&amp;place=list</td>\n",
       "      <td>\\r\\n&lt;!doctype html&gt;\\n&lt;html lang=\"ru\" data-tip=\"222\"&gt;\\n&lt;head&gt;\\n    &lt;meta charset=\"UTF-8\"&gt;\\n    &lt;title&gt;УВК школа-гимназия №17 им. А.Пушкина - адрес, новости, отзывы, выпускники — Билим АКИpress&lt;/tit...</td>\n",
       "      <td>109.3</td>\n",
       "    </tr>\n",
       "    <tr>\n",
       "      <th>3</th>\n",
       "      <td>Учебный комплекс авторской физико-математической школы-лицея №61 Е.Якира</td>\n",
       "      <td>/profile:2188/uchebnyi-kompleks-avtorskoi-fizikomatematicheskoi/?from=bilim&amp;place=list</td>\n",
       "      <td>Бишкек, Первомайский район  Малдыбаева, 10</td>\n",
       "      <td>https://bilim.akipress.org/profile:2188/uchebnyi-kompleks-avtorskoi-fizikomatematicheskoi/?from=bilim&amp;place=list</td>\n",
       "      <td>\\r\\n&lt;!doctype html&gt;\\n&lt;html lang=\"ru\" data-tip=\"222\"&gt;\\n&lt;head&gt;\\n    &lt;meta charset=\"UTF-8\"&gt;\\n    &lt;title&gt;Учебный комплекс авторской физико-математической школы-лицея №61 Е.Якира - адрес, новости, отзы...</td>\n",
       "      <td>нет</td>\n",
       "    </tr>\n",
       "    <tr>\n",
       "      <th>4</th>\n",
       "      <td>Школа-гимназия №91</td>\n",
       "      <td>/profile:2172/shkolagimnaziya-91/?from=bilim&amp;place=list</td>\n",
       "      <td>Бишкек, Октябрьский район  ул.Оберона б/н</td>\n",
       "      <td>https://bilim.akipress.org/profile:2172/shkolagimnaziya-91/?from=bilim&amp;place=list</td>\n",
       "      <td>\\r\\n&lt;!doctype html&gt;\\n&lt;html lang=\"ru\" data-tip=\"222\"&gt;\\n&lt;head&gt;\\n    &lt;meta charset=\"UTF-8\"&gt;\\n    &lt;title&gt;Школа-гимназия №91 - адрес, новости, отзывы, выпускники — Билим АКИpress&lt;/title&gt;\\n    &lt;meta nam...</td>\n",
       "      <td>156</td>\n",
       "    </tr>\n",
       "    <tr>\n",
       "      <th>...</th>\n",
       "      <td>...</td>\n",
       "      <td>...</td>\n",
       "      <td>...</td>\n",
       "      <td>...</td>\n",
       "      <td>...</td>\n",
       "      <td>...</td>\n",
       "    </tr>\n",
       "    <tr>\n",
       "      <th>95</th>\n",
       "      <td>СШ им.Кудайбердиева</td>\n",
       "      <td>/profile:1082/ssh-imkudaiberdieva/?from=bilim&amp;place=list</td>\n",
       "      <td>Ыссык-Кульская область, Ыссык-Кульский район c.Кашат Советская б\\н  722320</td>\n",
       "      <td>https://bilim.akipress.org/profile:1082/ssh-imkudaiberdieva/?from=bilim&amp;place=list</td>\n",
       "      <td>\\r\\n&lt;!doctype html&gt;\\n&lt;html lang=\"ru\" data-tip=\"222\"&gt;\\n&lt;head&gt;\\n    &lt;meta charset=\"UTF-8\"&gt;\\n    &lt;title&gt;СШ им.Кудайбердиева - адрес, новости, отзывы, выпускники — Билим АКИpress&lt;/title&gt;\\n    &lt;meta na...</td>\n",
       "      <td>114.9</td>\n",
       "    </tr>\n",
       "    <tr>\n",
       "      <th>96</th>\n",
       "      <td>СШ им.Керимгазиева</td>\n",
       "      <td>/profile:1083/ssh-imkerimgazieva/?from=bilim&amp;place=list</td>\n",
       "      <td>Ыссык-Кульская область, Ыссык-Кульский район c.Темировка Иманалива б\\н 722319</td>\n",
       "      <td>https://bilim.akipress.org/profile:1083/ssh-imkerimgazieva/?from=bilim&amp;place=list</td>\n",
       "      <td>\\r\\n&lt;!doctype html&gt;\\n&lt;html lang=\"ru\" data-tip=\"222\"&gt;\\n&lt;head&gt;\\n    &lt;meta charset=\"UTF-8\"&gt;\\n    &lt;title&gt;СШ им.Керимгазиева - адрес, новости, отзывы, выпускники — Билим АКИpress&lt;/title&gt;\\n    &lt;meta nam...</td>\n",
       "      <td>109.8</td>\n",
       "    </tr>\n",
       "    <tr>\n",
       "      <th>97</th>\n",
       "      <td>СШ им. Колесникова</td>\n",
       "      <td>/profile:1080/ssh-im-kolesnikova/?from=bilim&amp;place=list</td>\n",
       "      <td>Ыссык-Кульская область, Ыссык-Кульский район c.Семеновка ул.Алмакучукова б\\н 722323</td>\n",
       "      <td>https://bilim.akipress.org/profile:1080/ssh-im-kolesnikova/?from=bilim&amp;place=list</td>\n",
       "      <td>\\r\\n&lt;!doctype html&gt;\\n&lt;html lang=\"ru\" data-tip=\"222\"&gt;\\n&lt;head&gt;\\n    &lt;meta charset=\"UTF-8\"&gt;\\n    &lt;title&gt;СШ им. Колесникова - адрес, новости, отзывы, выпускники — Билим АКИpress&lt;/title&gt;\\n    &lt;meta nam...</td>\n",
       "      <td>100.8</td>\n",
       "    </tr>\n",
       "    <tr>\n",
       "      <th>98</th>\n",
       "      <td>СШ им.Маматова</td>\n",
       "      <td>/profile:1075/ssh-immamatova/?from=bilim&amp;place=list</td>\n",
       "      <td>Ыссык-Кульская область, Ыссык-Кульский район c.Жаркынбаево ул.Абдракманова б\\н 722326</td>\n",
       "      <td>https://bilim.akipress.org/profile:1075/ssh-immamatova/?from=bilim&amp;place=list</td>\n",
       "      <td>\\r\\n&lt;!doctype html&gt;\\n&lt;html lang=\"ru\" data-tip=\"222\"&gt;\\n&lt;head&gt;\\n    &lt;meta charset=\"UTF-8\"&gt;\\n    &lt;title&gt;СШ им.Маматова - адрес, новости, отзывы, выпускники — Билим АКИpress&lt;/title&gt;\\n    &lt;meta name=\"r...</td>\n",
       "      <td>110.9</td>\n",
       "    </tr>\n",
       "    <tr>\n",
       "      <th>99</th>\n",
       "      <td>СШ им.Пушкина</td>\n",
       "      <td>/profile:1081/ssh-impushkina/?from=bilim&amp;place=list</td>\n",
       "      <td>Ыссык-Кульская область, Ыссык-Кульский район c.Григорьевка 8 марта б\\н   722321</td>\n",
       "      <td>https://bilim.akipress.org/profile:1081/ssh-impushkina/?from=bilim&amp;place=list</td>\n",
       "      <td>\\r\\n&lt;!doctype html&gt;\\n&lt;html lang=\"ru\" data-tip=\"222\"&gt;\\n&lt;head&gt;\\n    &lt;meta charset=\"UTF-8\"&gt;\\n    &lt;title&gt;СШ им.Пушкина - адрес, новости, отзывы, выпускники — Билим АКИpress&lt;/title&gt;\\n    &lt;meta name=\"ro...</td>\n",
       "      <td>117.9</td>\n",
       "    </tr>\n",
       "  </tbody>\n",
       "</table>\n",
       "<p>100 rows × 6 columns</p>\n",
       "</div>"
      ],
      "text/plain": [
       "                                                                        name  \\\n",
       "0                                                            СШ им.Огонбаева   \n",
       "1                                                     УВК школа-гимназия №70   \n",
       "2                                       УВК школа-гимназия №17 им. А.Пушкина   \n",
       "3   Учебный комплекс авторской физико-математической школы-лицея №61 Е.Якира   \n",
       "4                                                         Школа-гимназия №91   \n",
       "..                                                                       ...   \n",
       "95                                                       СШ им.Кудайбердиева   \n",
       "96                                                        СШ им.Керимгазиева   \n",
       "97                                                        СШ им. Колесникова   \n",
       "98                                                            СШ им.Маматова   \n",
       "99                                                             СШ им.Пушкина   \n",
       "\n",
       "                                                                                      link  \\\n",
       "0                                      /profile:715/ssh-imogonbaeva/?from=bilim&place=list   \n",
       "1                              /profile:2186/uvk-shkolagimnaziya-70/?from=bilim&place=list   \n",
       "2                   /profile:10/uvk-shkolagimnaziya-17-im-apushkina/?from=bilim&place=list   \n",
       "3   /profile:2188/uchebnyi-kompleks-avtorskoi-fizikomatematicheskoi/?from=bilim&place=list   \n",
       "4                                  /profile:2172/shkolagimnaziya-91/?from=bilim&place=list   \n",
       "..                                                                                     ...   \n",
       "95                                /profile:1082/ssh-imkudaiberdieva/?from=bilim&place=list   \n",
       "96                                 /profile:1083/ssh-imkerimgazieva/?from=bilim&place=list   \n",
       "97                                 /profile:1080/ssh-im-kolesnikova/?from=bilim&place=list   \n",
       "98                                     /profile:1075/ssh-immamatova/?from=bilim&place=list   \n",
       "99                                     /profile:1081/ssh-impushkina/?from=bilim&place=list   \n",
       "\n",
       "                                                                                  address  \\\n",
       "0                    Таласская область, Таласский район c.Кек-Кашат 724009 ул. Школьная 1   \n",
       "1                                             Бишкек, Первомайский район  Боконбаева, 153   \n",
       "2                                            Бишкек, Октябрьский район  Бишкек, 4 мкр, 31   \n",
       "3                                              Бишкек, Первомайский район  Малдыбаева, 10   \n",
       "4                                               Бишкек, Октябрьский район  ул.Оберона б/н   \n",
       "..                                                                                    ...   \n",
       "95             Ыссык-Кульская область, Ыссык-Кульский район c.Кашат Советская б\\н  722320   \n",
       "96          Ыссык-Кульская область, Ыссык-Кульский район c.Темировка Иманалива б\\н 722319   \n",
       "97    Ыссык-Кульская область, Ыссык-Кульский район c.Семеновка ул.Алмакучукова б\\н 722323   \n",
       "98  Ыссык-Кульская область, Ыссык-Кульский район c.Жаркынбаево ул.Абдракманова б\\н 722326   \n",
       "99        Ыссык-Кульская область, Ыссык-Кульский район c.Григорьевка 8 марта б\\н   722321   \n",
       "\n",
       "                                                                                                                urls  \\\n",
       "0                                      https://bilim.akipress.org/profile:715/ssh-imogonbaeva/?from=bilim&place=list   \n",
       "1                              https://bilim.akipress.org/profile:2186/uvk-shkolagimnaziya-70/?from=bilim&place=list   \n",
       "2                   https://bilim.akipress.org/profile:10/uvk-shkolagimnaziya-17-im-apushkina/?from=bilim&place=list   \n",
       "3   https://bilim.akipress.org/profile:2188/uchebnyi-kompleks-avtorskoi-fizikomatematicheskoi/?from=bilim&place=list   \n",
       "4                                  https://bilim.akipress.org/profile:2172/shkolagimnaziya-91/?from=bilim&place=list   \n",
       "..                                                                                                               ...   \n",
       "95                                https://bilim.akipress.org/profile:1082/ssh-imkudaiberdieva/?from=bilim&place=list   \n",
       "96                                 https://bilim.akipress.org/profile:1083/ssh-imkerimgazieva/?from=bilim&place=list   \n",
       "97                                 https://bilim.akipress.org/profile:1080/ssh-im-kolesnikova/?from=bilim&place=list   \n",
       "98                                     https://bilim.akipress.org/profile:1075/ssh-immamatova/?from=bilim&place=list   \n",
       "99                                     https://bilim.akipress.org/profile:1081/ssh-impushkina/?from=bilim&place=list   \n",
       "\n",
       "                                                                                                                                                                                                   contents  \\\n",
       "0   \\r\\n<!doctype html>\\n<html lang=\"ru\" data-tip=\"222\">\\n<head>\\n    <meta charset=\"UTF-8\">\\n    <title>СШ им.Огонбаева - адрес, новости, отзывы, выпускники — Билим АКИpress</title>\\n    <meta name=\"...   \n",
       "1   \\r\\n<!doctype html>\\n<html lang=\"ru\" data-tip=\"222\">\\n<head>\\n    <meta charset=\"UTF-8\">\\n    <title>УВК школа-гимназия №70 - адрес, новости, отзывы, выпускники — Билим АКИpress</title>\\n    <meta...   \n",
       "2   \\r\\n<!doctype html>\\n<html lang=\"ru\" data-tip=\"222\">\\n<head>\\n    <meta charset=\"UTF-8\">\\n    <title>УВК школа-гимназия №17 им. А.Пушкина - адрес, новости, отзывы, выпускники — Билим АКИpress</tit...   \n",
       "3   \\r\\n<!doctype html>\\n<html lang=\"ru\" data-tip=\"222\">\\n<head>\\n    <meta charset=\"UTF-8\">\\n    <title>Учебный комплекс авторской физико-математической школы-лицея №61 Е.Якира - адрес, новости, отзы...   \n",
       "4   \\r\\n<!doctype html>\\n<html lang=\"ru\" data-tip=\"222\">\\n<head>\\n    <meta charset=\"UTF-8\">\\n    <title>Школа-гимназия №91 - адрес, новости, отзывы, выпускники — Билим АКИpress</title>\\n    <meta nam...   \n",
       "..                                                                                                                                                                                                      ...   \n",
       "95  \\r\\n<!doctype html>\\n<html lang=\"ru\" data-tip=\"222\">\\n<head>\\n    <meta charset=\"UTF-8\">\\n    <title>СШ им.Кудайбердиева - адрес, новости, отзывы, выпускники — Билим АКИpress</title>\\n    <meta na...   \n",
       "96  \\r\\n<!doctype html>\\n<html lang=\"ru\" data-tip=\"222\">\\n<head>\\n    <meta charset=\"UTF-8\">\\n    <title>СШ им.Керимгазиева - адрес, новости, отзывы, выпускники — Билим АКИpress</title>\\n    <meta nam...   \n",
       "97  \\r\\n<!doctype html>\\n<html lang=\"ru\" data-tip=\"222\">\\n<head>\\n    <meta charset=\"UTF-8\">\\n    <title>СШ им. Колесникова - адрес, новости, отзывы, выпускники — Билим АКИpress</title>\\n    <meta nam...   \n",
       "98  \\r\\n<!doctype html>\\n<html lang=\"ru\" data-tip=\"222\">\\n<head>\\n    <meta charset=\"UTF-8\">\\n    <title>СШ им.Маматова - адрес, новости, отзывы, выпускники — Билим АКИpress</title>\\n    <meta name=\"r...   \n",
       "99  \\r\\n<!doctype html>\\n<html lang=\"ru\" data-tip=\"222\">\\n<head>\\n    <meta charset=\"UTF-8\">\\n    <title>СШ им.Пушкина - адрес, новости, отзывы, выпускники — Билим АКИpress</title>\\n    <meta name=\"ro...   \n",
       "\n",
       "    score  \n",
       "0    96.8  \n",
       "1     нет  \n",
       "2   109.3  \n",
       "3     нет  \n",
       "4     156  \n",
       "..    ...  \n",
       "95  114.9  \n",
       "96  109.8  \n",
       "97  100.8  \n",
       "98  110.9  \n",
       "99  117.9  \n",
       "\n",
       "[100 rows x 6 columns]"
      ]
     },
     "execution_count": 36,
     "metadata": {},
     "output_type": "execute_result"
    }
   ],
   "source": [
    "df['score'] = score['value']\n",
    "df"
   ]
  },
  {
   "cell_type": "code",
   "execution_count": 39,
   "metadata": {},
   "outputs": [],
   "source": [
    "df1=df"
   ]
  },
  {
   "cell_type": "code",
   "execution_count": 40,
   "metadata": {},
   "outputs": [],
   "source": [
    "del df1['contents']"
   ]
  },
  {
   "cell_type": "code",
   "execution_count": 42,
   "metadata": {},
   "outputs": [],
   "source": [
    "df1.to_csv('scores.csv', index = False)"
   ]
  }
 ],
 "metadata": {
  "kernelspec": {
   "display_name": "Python 3",
   "language": "python",
   "name": "python3"
  },
  "language_info": {
   "codemirror_mode": {
    "name": "ipython",
    "version": 3
   },
   "file_extension": ".py",
   "mimetype": "text/x-python",
   "name": "python",
   "nbconvert_exporter": "python",
   "pygments_lexer": "ipython3",
   "version": "3.8.3"
  }
 },
 "nbformat": 4,
 "nbformat_minor": 4
}
