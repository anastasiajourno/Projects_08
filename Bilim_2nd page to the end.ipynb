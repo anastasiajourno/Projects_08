{
 "cells": [
  {
   "cell_type": "code",
   "execution_count": 1,
   "metadata": {},
   "outputs": [],
   "source": [
    "import pandas as pd\n",
    "from bs4 import BeautifulSoup\n",
    "import requests\n",
    "from urllib.parse import urlparse"
   ]
  },
  {
   "cell_type": "code",
   "execution_count": 2,
   "metadata": {},
   "outputs": [],
   "source": [
    "pd.set_option(\"display.max_colwidth\", 200)\n",
    "pd.set_option(\"display.max_columns\", 200)"
   ]
  },
  {
   "cell_type": "code",
   "execution_count": null,
   "metadata": {},
   "outputs": [],
   "source": [
    "#HOW our pages look like\n",
    "#https://bilim.akipress.org/profiles:3/school/list//page:2\n",
    "#https://bilim.akipress.org/profiles:3/school/list//page:23"
   ]
  },
  {
   "cell_type": "code",
   "execution_count": 12,
   "metadata": {},
   "outputs": [],
   "source": [
    "#GET the url with a function\n",
    "def pages(page_number):\n",
    "    url = 'https://bilim.akipress.org/profiles:3/school/list//page:' + str(page_number)\n",
    "    return url"
   ]
  },
  {
   "cell_type": "code",
   "execution_count": 62,
   "metadata": {},
   "outputs": [
    {
     "data": {
      "text/plain": [
       "['https://bilim.akipress.org/profiles:3/school/list//page:2',\n",
       " 'https://bilim.akipress.org/profiles:3/school/list//page:3',\n",
       " 'https://bilim.akipress.org/profiles:3/school/list//page:4',\n",
       " 'https://bilim.akipress.org/profiles:3/school/list//page:5',\n",
       " 'https://bilim.akipress.org/profiles:3/school/list//page:6',\n",
       " 'https://bilim.akipress.org/profiles:3/school/list//page:7',\n",
       " 'https://bilim.akipress.org/profiles:3/school/list//page:8',\n",
       " 'https://bilim.akipress.org/profiles:3/school/list//page:9',\n",
       " 'https://bilim.akipress.org/profiles:3/school/list//page:10',\n",
       " 'https://bilim.akipress.org/profiles:3/school/list//page:11',\n",
       " 'https://bilim.akipress.org/profiles:3/school/list//page:12',\n",
       " 'https://bilim.akipress.org/profiles:3/school/list//page:13',\n",
       " 'https://bilim.akipress.org/profiles:3/school/list//page:14',\n",
       " 'https://bilim.akipress.org/profiles:3/school/list//page:15',\n",
       " 'https://bilim.akipress.org/profiles:3/school/list//page:16',\n",
       " 'https://bilim.akipress.org/profiles:3/school/list//page:17',\n",
       " 'https://bilim.akipress.org/profiles:3/school/list//page:18',\n",
       " 'https://bilim.akipress.org/profiles:3/school/list//page:19',\n",
       " 'https://bilim.akipress.org/profiles:3/school/list//page:20',\n",
       " 'https://bilim.akipress.org/profiles:3/school/list//page:21',\n",
       " 'https://bilim.akipress.org/profiles:3/school/list//page:22',\n",
       " 'https://bilim.akipress.org/profiles:3/school/list//page:23']"
      ]
     },
     "execution_count": 62,
     "metadata": {},
     "output_type": "execute_result"
    }
   ],
   "source": [
    "#GET all the urls with a loop and SAVE to a list\n",
    "urls=[]\n",
    "for x in range(2, 24):\n",
    "    urls.append(pages(x))\n",
    "urls"
   ]
  },
  {
   "cell_type": "code",
   "execution_count": 63,
   "metadata": {
    "scrolled": false
   },
   "outputs": [],
   "source": [
    "schools=[]\n",
    "for url in urls:\n",
    "    response = requests.get(url)\n",
    "    soup = BeautifulSoup(response.text, \"html.parser\")\n",
    "    table = soup.select('table', class_='table-striped')\n",
    "    table = table[0]\n",
    "    #schools_list = []\n",
    "    schools_trs = soup.select('tr')\n",
    "    for tr in schools_trs[1:]:\n",
    "        tds = tr.select('td')\n",
    "        td_list = []\n",
    "        for (i, td) in enumerate(tds):\n",
    "            if(i >= 1):\n",
    "                td_list.append(td.text)\n",
    "            #if it's the second column, get the href link also\n",
    "            if(i == 1):\n",
    "                td_list.append(td.find('a')['href']) \n",
    "            #schools_list.append(td_list)\n",
    "        schools.append(td_list)"
   ]
  },
  {
   "cell_type": "code",
   "execution_count": 64,
   "metadata": {},
   "outputs": [
    {
     "data": {
      "text/plain": [
       "(2122, 4)"
      ]
     },
     "execution_count": 64,
     "metadata": {},
     "output_type": "execute_result"
    }
   ],
   "source": [
    "df = pd.DataFrame(schools, columns=[\"name\", \"link\", \"address\"])\n",
    "df['urls'] = (\"https://bilim.akipress.org\"+df['link'])\n",
    "df.shape"
   ]
  },
  {
   "cell_type": "code",
   "execution_count": 65,
   "metadata": {},
   "outputs": [],
   "source": [
    "df['contents'] = df.urls.apply(lambda url: requests.get(url).text)"
   ]
  },
  {
   "cell_type": "code",
   "execution_count": 66,
   "metadata": {},
   "outputs": [],
   "source": [
    "def get_score(content):\n",
    "    soup = BeautifulSoup(content)\n",
    "    tables = soup.select(\"table\")\n",
    "    try:\n",
    "        trs = tables[2].find_all('tr')\n",
    "        for (i, tr) in enumerate (trs):\n",
    "           #if it's the second row, go there\n",
    "            if (i == 1):\n",
    "                tds = tr.find_all('td')\n",
    "                for (i, td) in enumerate(tds):\n",
    "           # if it's the third column, get the value\n",
    "                    if(i == 2):\n",
    "                        score = td.text\n",
    "        return score\n",
    "    except:\n",
    "        pass"
   ]
  },
  {
   "cell_type": "code",
   "execution_count": 67,
   "metadata": {},
   "outputs": [],
   "source": [
    "score = df.contents.apply(get_score)\n",
    "score = score.to_frame().reset_index()\n",
    "score.columns = ['index', 'value']"
   ]
  },
  {
   "cell_type": "code",
   "execution_count": 69,
   "metadata": {},
   "outputs": [],
   "source": [
    "df['score'] = score['value']"
   ]
  },
  {
   "cell_type": "code",
   "execution_count": 71,
   "metadata": {},
   "outputs": [],
   "source": [
    "df1=df"
   ]
  },
  {
   "cell_type": "code",
   "execution_count": 72,
   "metadata": {},
   "outputs": [],
   "source": [
    "del df1['contents']"
   ]
  },
  {
   "cell_type": "code",
   "execution_count": 73,
   "metadata": {},
   "outputs": [
    {
     "data": {
      "text/html": [
       "<div>\n",
       "<style scoped>\n",
       "    .dataframe tbody tr th:only-of-type {\n",
       "        vertical-align: middle;\n",
       "    }\n",
       "\n",
       "    .dataframe tbody tr th {\n",
       "        vertical-align: top;\n",
       "    }\n",
       "\n",
       "    .dataframe thead th {\n",
       "        text-align: right;\n",
       "    }\n",
       "</style>\n",
       "<table border=\"1\" class=\"dataframe\">\n",
       "  <thead>\n",
       "    <tr style=\"text-align: right;\">\n",
       "      <th></th>\n",
       "      <th>name</th>\n",
       "      <th>link</th>\n",
       "      <th>address</th>\n",
       "      <th>urls</th>\n",
       "      <th>score</th>\n",
       "    </tr>\n",
       "  </thead>\n",
       "  <tbody>\n",
       "    <tr>\n",
       "      <th>0</th>\n",
       "      <td>СШ им.Эшенкулова</td>\n",
       "      <td>/profile:1099/ssh-imeshenkulova/?from=bilim&amp;place=list</td>\n",
       "      <td>Ыссык-Кульская область, Ыссык-Кульский район c.Тору-Айгыр 722302 ул.ентибаева 5</td>\n",
       "      <td>https://bilim.akipress.org/profile:1099/ssh-imeshenkulova/?from=bilim&amp;place=list</td>\n",
       "      <td>108.8</td>\n",
       "    </tr>\n",
       "    <tr>\n",
       "      <th>1</th>\n",
       "      <td>СШ им.Иманкулова</td>\n",
       "      <td>/profile:1085/ssh-imimankulova/?from=bilim&amp;place=list</td>\n",
       "      <td>Ыссык-Кульская область, Ыссык-Кульский район c.Бактуу-Долоноту Гагарина № 5   722317</td>\n",
       "      <td>https://bilim.akipress.org/profile:1085/ssh-imimankulova/?from=bilim&amp;place=list</td>\n",
       "      <td>95.3</td>\n",
       "    </tr>\n",
       "    <tr>\n",
       "      <th>2</th>\n",
       "      <td>СШ им.Бейшекеева</td>\n",
       "      <td>/profile:1074/ssh-imbeishekeeva/?from=bilim&amp;place=list</td>\n",
       "      <td>Ыссык-Кульская область, Ыссык-Кульский район c.Кароол-Дебе ул.Шадыканова б\\н722327</td>\n",
       "      <td>https://bilim.akipress.org/profile:1074/ssh-imbeishekeeva/?from=bilim&amp;place=list</td>\n",
       "      <td>126</td>\n",
       "    </tr>\n",
       "    <tr>\n",
       "      <th>3</th>\n",
       "      <td>СШ им.Орозова</td>\n",
       "      <td>/profile:1084/ssh-imorozova/?from=bilim&amp;place=list</td>\n",
       "      <td>Ыссык-Кульская область, Ыссык-Кульский район c.Корумду Сокубай № 37 722318</td>\n",
       "      <td>https://bilim.akipress.org/profile:1084/ssh-imorozova/?from=bilim&amp;place=list</td>\n",
       "      <td>109.1</td>\n",
       "    </tr>\n",
       "    <tr>\n",
       "      <th>4</th>\n",
       "      <td>СШ им.Абдрахманова</td>\n",
       "      <td>/profile:1077/ssh-imabdrahmanova/?from=bilim&amp;place=list</td>\n",
       "      <td>Ыссык-Кульская область, Ыссык-Кульский район c.Ананьево ул.Ленина №65 722324</td>\n",
       "      <td>https://bilim.akipress.org/profile:1077/ssh-imabdrahmanova/?from=bilim&amp;place=list</td>\n",
       "      <td>121.6</td>\n",
       "    </tr>\n",
       "  </tbody>\n",
       "</table>\n",
       "</div>"
      ],
      "text/plain": [
       "                 name  \\\n",
       "0    СШ им.Эшенкулова   \n",
       "1    СШ им.Иманкулова   \n",
       "2    СШ им.Бейшекеева   \n",
       "3       СШ им.Орозова   \n",
       "4  СШ им.Абдрахманова   \n",
       "\n",
       "                                                      link  \\\n",
       "0   /profile:1099/ssh-imeshenkulova/?from=bilim&place=list   \n",
       "1    /profile:1085/ssh-imimankulova/?from=bilim&place=list   \n",
       "2   /profile:1074/ssh-imbeishekeeva/?from=bilim&place=list   \n",
       "3       /profile:1084/ssh-imorozova/?from=bilim&place=list   \n",
       "4  /profile:1077/ssh-imabdrahmanova/?from=bilim&place=list   \n",
       "\n",
       "                                                                                address  \\\n",
       "0       Ыссык-Кульская область, Ыссык-Кульский район c.Тору-Айгыр 722302 ул.ентибаева 5   \n",
       "1  Ыссык-Кульская область, Ыссык-Кульский район c.Бактуу-Долоноту Гагарина № 5   722317   \n",
       "2    Ыссык-Кульская область, Ыссык-Кульский район c.Кароол-Дебе ул.Шадыканова б\\н722327   \n",
       "3            Ыссык-Кульская область, Ыссык-Кульский район c.Корумду Сокубай № 37 722318   \n",
       "4          Ыссык-Кульская область, Ыссык-Кульский район c.Ананьево ул.Ленина №65 722324   \n",
       "\n",
       "                                                                                urls  \\\n",
       "0   https://bilim.akipress.org/profile:1099/ssh-imeshenkulova/?from=bilim&place=list   \n",
       "1    https://bilim.akipress.org/profile:1085/ssh-imimankulova/?from=bilim&place=list   \n",
       "2   https://bilim.akipress.org/profile:1074/ssh-imbeishekeeva/?from=bilim&place=list   \n",
       "3       https://bilim.akipress.org/profile:1084/ssh-imorozova/?from=bilim&place=list   \n",
       "4  https://bilim.akipress.org/profile:1077/ssh-imabdrahmanova/?from=bilim&place=list   \n",
       "\n",
       "   score  \n",
       "0  108.8  \n",
       "1   95.3  \n",
       "2    126  \n",
       "3  109.1  \n",
       "4  121.6  "
      ]
     },
     "execution_count": 73,
     "metadata": {},
     "output_type": "execute_result"
    }
   ],
   "source": [
    "df1.head()"
   ]
  },
  {
   "cell_type": "code",
   "execution_count": 74,
   "metadata": {},
   "outputs": [],
   "source": [
    "df1.to_csv('scores1.csv', index = False)"
   ]
  }
 ],
 "metadata": {
  "kernelspec": {
   "display_name": "Python 3",
   "language": "python",
   "name": "python3"
  },
  "language_info": {
   "codemirror_mode": {
    "name": "ipython",
    "version": 3
   },
   "file_extension": ".py",
   "mimetype": "text/x-python",
   "name": "python",
   "nbconvert_exporter": "python",
   "pygments_lexer": "ipython3",
   "version": "3.8.3"
  }
 },
 "nbformat": 4,
 "nbformat_minor": 4
}
