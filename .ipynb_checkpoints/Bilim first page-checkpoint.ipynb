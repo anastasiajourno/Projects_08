{
 "cells": [
  {
   "cell_type": "code",
   "execution_count": 1,
   "metadata": {},
   "outputs": [],
   "source": [
    "import pandas as pd\n",
    "from bs4 import BeautifulSoup\n",
    "import requests\n",
    "from urllib.parse import urlparse"
   ]
  },
  {
   "cell_type": "code",
   "execution_count": 14,
   "metadata": {},
   "outputs": [],
   "source": [
    "pd.set_option(\"display.max_colwidth\", 200)\n",
    "pd.set_option(\"display.max_columns\", 200)"
   ]
  },
  {
   "cell_type": "code",
   "execution_count": 2,
   "metadata": {},
   "outputs": [],
   "source": [
    "url = 'https://bilim.akipress.org/profiles:3/school/list'"
   ]
  },
  {
   "cell_type": "code",
   "execution_count": 3,
   "metadata": {},
   "outputs": [],
   "source": [
    "response = requests.get(url)"
   ]
  },
  {
   "cell_type": "code",
   "execution_count": 4,
   "metadata": {},
   "outputs": [],
   "source": [
    "soup = BeautifulSoup(response.text, \"html.parser\")"
   ]
  },
  {
   "cell_type": "code",
   "execution_count": 5,
   "metadata": {},
   "outputs": [],
   "source": [
    "# find where the data we want resides (a tag, class name, table number)\n",
    "table = soup.select('table', class_='table-striped')"
   ]
  },
  {
   "cell_type": "code",
   "execution_count": 6,
   "metadata": {},
   "outputs": [],
   "source": [
    "table = table[0]"
   ]
  },
  {
   "cell_type": "code",
   "execution_count": 7,
   "metadata": {},
   "outputs": [],
   "source": [
    "# find_all tr\n",
    "schools_trs = soup.select('tr')"
   ]
  },
  {
   "cell_type": "code",
   "execution_count": 8,
   "metadata": {},
   "outputs": [
    {
     "data": {
      "text/plain": [
       "['Наименование', 'Адрес']"
      ]
     },
     "execution_count": 8,
     "metadata": {},
     "output_type": "execute_result"
    }
   ],
   "source": [
    "# separate the first tr tag row for the header\n",
    "schools_th = schools_trs[0].select('th')\n",
    "schools_header = []\n",
    "for (i,th) in enumerate(schools_th):\n",
    "    if(i >= 1):\n",
    "        schools_header.append(th.text)\n",
    "schools_header"
   ]
  },
  {
   "cell_type": "code",
   "execution_count": 10,
   "metadata": {},
   "outputs": [],
   "source": [
    "# for each tr, find tds then for each td get text inside, then save to new array\n",
    "schools_list = []\n",
    "for tr in schools_trs[1:]:\n",
    "    tds = tr.select('td')\n",
    "    td_list = []\n",
    "    for (i, td) in enumerate(tds):\n",
    "        if(i >= 1):\n",
    "            td_list.append(td.text)\n",
    "        #if it's the second column, get the href link also\n",
    "        if(i == 1):\n",
    "            td_list.append(td.find('a')['href']) \n",
    "    schools_list.append(td_list)"
   ]
  },
  {
   "cell_type": "code",
   "execution_count": 11,
   "metadata": {},
   "outputs": [],
   "source": [
    "df = pd.DataFrame(schools_list, columns=[\"name\", \"link\", \"address\"])"
   ]
  },
  {
   "cell_type": "code",
   "execution_count": 15,
   "metadata": {},
   "outputs": [],
   "source": [
    "df['urls'] = (\"https://bilim.akipress.org\"+df['link'])"
   ]
  },
  {
   "cell_type": "code",
   "execution_count": 13,
   "metadata": {},
   "outputs": [],
   "source": [
    "df['contents'] = df.urls.apply(lambda url: requests.get(url).text)"
   ]
  },
  {
   "cell_type": "code",
   "execution_count": 14,
   "metadata": {},
   "outputs": [
    {
     "data": {
      "text/html": [
       "<div>\n",
       "<style scoped>\n",
       "    .dataframe tbody tr th:only-of-type {\n",
       "        vertical-align: middle;\n",
       "    }\n",
       "\n",
       "    .dataframe tbody tr th {\n",
       "        vertical-align: top;\n",
       "    }\n",
       "\n",
       "    .dataframe thead th {\n",
       "        text-align: right;\n",
       "    }\n",
       "</style>\n",
       "<table border=\"1\" class=\"dataframe\">\n",
       "  <thead>\n",
       "    <tr style=\"text-align: right;\">\n",
       "      <th></th>\n",
       "      <th>name</th>\n",
       "      <th>link</th>\n",
       "      <th>address</th>\n",
       "      <th>urls</th>\n",
       "      <th>contents</th>\n",
       "    </tr>\n",
       "  </thead>\n",
       "  <tbody>\n",
       "    <tr>\n",
       "      <th>0</th>\n",
       "      <td>СШ им.Огонбаева</td>\n",
       "      <td>/profile:715/ssh-imogonbaeva/?from=bilim&amp;place=list</td>\n",
       "      <td>Таласская область, Таласский район c.Кек-Кашат 724009 ул. Школьная 1</td>\n",
       "      <td>https://bilim.akipress.org//profile:715/ssh-imogonbaeva/?from=bilim&amp;place=list</td>\n",
       "      <td>\\r\\n&lt;!doctype html&gt;\\n&lt;html lang=\"ru\" data-tip=\"222\"&gt;\\n&lt;head&gt;\\n    &lt;meta charset=\"UTF-8\"&gt;\\n    &lt;title&gt;СШ им.Огонбаева - адрес, новости, отзывы, выпускники — Билим АКИpress&lt;/title&gt;\\n    &lt;meta name=\"...</td>\n",
       "    </tr>\n",
       "  </tbody>\n",
       "</table>\n",
       "</div>"
      ],
      "text/plain": [
       "              name                                                 link  \\\n",
       "0  СШ им.Огонбаева  /profile:715/ssh-imogonbaeva/?from=bilim&place=list   \n",
       "\n",
       "                                                                address  \\\n",
       "0  Таласская область, Таласский район c.Кек-Кашат 724009 ул. Школьная 1   \n",
       "\n",
       "                                                                             urls  \\\n",
       "0  https://bilim.akipress.org//profile:715/ssh-imogonbaeva/?from=bilim&place=list   \n",
       "\n",
       "                                                                                                                                                                                                  contents  \n",
       "0  \\r\\n<!doctype html>\\n<html lang=\"ru\" data-tip=\"222\">\\n<head>\\n    <meta charset=\"UTF-8\">\\n    <title>СШ им.Огонбаева - адрес, новости, отзывы, выпускники — Билим АКИpress</title>\\n    <meta name=\"...  "
      ]
     },
     "execution_count": 14,
     "metadata": {},
     "output_type": "execute_result"
    }
   ],
   "source": [
    "df_1 = df.head(1)\n",
    "df_1"
   ]
  },
  {
   "cell_type": "code",
   "execution_count": 15,
   "metadata": {},
   "outputs": [],
   "source": [
    "def get_score(content):\n",
    "    soup = BeautifulSoup(content)\n",
    "    tables = soup.select(\"table\")\n",
    "    trs = tables[2].find_all('tr')\n",
    "    for (i, tr) in enumerate (trs):\n",
    "        #if it's the second row, go there\n",
    "        if (i == 1):\n",
    "            tds = tr.find_all('td')\n",
    "            for (i, td) in enumerate(tds):\n",
    "           # if it's the third column, get the value\n",
    "                if(i == 2):\n",
    "                    score = td.text\n",
    "    return score"
   ]
  },
  {
   "cell_type": "code",
   "execution_count": 16,
   "metadata": {},
   "outputs": [
    {
     "data": {
      "text/html": [
       "<div>\n",
       "<style scoped>\n",
       "    .dataframe tbody tr th:only-of-type {\n",
       "        vertical-align: middle;\n",
       "    }\n",
       "\n",
       "    .dataframe tbody tr th {\n",
       "        vertical-align: top;\n",
       "    }\n",
       "\n",
       "    .dataframe thead th {\n",
       "        text-align: right;\n",
       "    }\n",
       "</style>\n",
       "<table border=\"1\" class=\"dataframe\">\n",
       "  <thead>\n",
       "    <tr style=\"text-align: right;\">\n",
       "      <th></th>\n",
       "      <th>index</th>\n",
       "      <th>value</th>\n",
       "    </tr>\n",
       "  </thead>\n",
       "  <tbody>\n",
       "    <tr>\n",
       "      <th>0</th>\n",
       "      <td>0</td>\n",
       "      <td>96.8</td>\n",
       "    </tr>\n",
       "  </tbody>\n",
       "</table>\n",
       "</div>"
      ],
      "text/plain": [
       "   index value\n",
       "0      0  96.8"
      ]
     },
     "execution_count": 16,
     "metadata": {},
     "output_type": "execute_result"
    }
   ],
   "source": [
    "score = df_1.contents.apply(get_score)\n",
    "score = score.to_frame().reset_index()\n",
    "score.columns = ['index', 'value']\n",
    "score"
   ]
  },
  {
   "cell_type": "code",
   "execution_count": 17,
   "metadata": {},
   "outputs": [
    {
     "name": "stderr",
     "output_type": "stream",
     "text": [
      "<ipython-input-17-8eca1122296b>:1: SettingWithCopyWarning: \n",
      "A value is trying to be set on a copy of a slice from a DataFrame.\n",
      "Try using .loc[row_indexer,col_indexer] = value instead\n",
      "\n",
      "See the caveats in the documentation: https://pandas.pydata.org/pandas-docs/stable/user_guide/indexing.html#returning-a-view-versus-a-copy\n",
      "  df_1['score'] = score['value']\n"
     ]
    }
   ],
   "source": [
    "df_1['score'] = score['value']"
   ]
  },
  {
   "cell_type": "code",
   "execution_count": 18,
   "metadata": {},
   "outputs": [
    {
     "data": {
      "text/html": [
       "<div>\n",
       "<style scoped>\n",
       "    .dataframe tbody tr th:only-of-type {\n",
       "        vertical-align: middle;\n",
       "    }\n",
       "\n",
       "    .dataframe tbody tr th {\n",
       "        vertical-align: top;\n",
       "    }\n",
       "\n",
       "    .dataframe thead th {\n",
       "        text-align: right;\n",
       "    }\n",
       "</style>\n",
       "<table border=\"1\" class=\"dataframe\">\n",
       "  <thead>\n",
       "    <tr style=\"text-align: right;\">\n",
       "      <th></th>\n",
       "      <th>name</th>\n",
       "      <th>link</th>\n",
       "      <th>address</th>\n",
       "      <th>urls</th>\n",
       "      <th>contents</th>\n",
       "      <th>score</th>\n",
       "    </tr>\n",
       "  </thead>\n",
       "  <tbody>\n",
       "    <tr>\n",
       "      <th>0</th>\n",
       "      <td>СШ им.Огонбаева</td>\n",
       "      <td>/profile:715/ssh-imogonbaeva/?from=bilim&amp;place=list</td>\n",
       "      <td>Таласская область, Таласский район c.Кек-Кашат 724009 ул. Школьная 1</td>\n",
       "      <td>https://bilim.akipress.org//profile:715/ssh-imogonbaeva/?from=bilim&amp;place=list</td>\n",
       "      <td>\\r\\n&lt;!doctype html&gt;\\n&lt;html lang=\"ru\" data-tip=\"222\"&gt;\\n&lt;head&gt;\\n    &lt;meta charset=\"UTF-8\"&gt;\\n    &lt;title&gt;СШ им.Огонбаева - адрес, новости, отзывы, выпускники — Билим АКИpress&lt;/title&gt;\\n    &lt;meta name=\"...</td>\n",
       "      <td>96.8</td>\n",
       "    </tr>\n",
       "  </tbody>\n",
       "</table>\n",
       "</div>"
      ],
      "text/plain": [
       "              name                                                 link  \\\n",
       "0  СШ им.Огонбаева  /profile:715/ssh-imogonbaeva/?from=bilim&place=list   \n",
       "\n",
       "                                                                address  \\\n",
       "0  Таласская область, Таласский район c.Кек-Кашат 724009 ул. Школьная 1   \n",
       "\n",
       "                                                                             urls  \\\n",
       "0  https://bilim.akipress.org//profile:715/ssh-imogonbaeva/?from=bilim&place=list   \n",
       "\n",
       "                                                                                                                                                                                                  contents  \\\n",
       "0  \\r\\n<!doctype html>\\n<html lang=\"ru\" data-tip=\"222\">\\n<head>\\n    <meta charset=\"UTF-8\">\\n    <title>СШ им.Огонбаева - адрес, новости, отзывы, выпускники — Билим АКИpress</title>\\n    <meta name=\"...   \n",
       "\n",
       "  score  \n",
       "0  96.8  "
      ]
     },
     "execution_count": 18,
     "metadata": {},
     "output_type": "execute_result"
    }
   ],
   "source": [
    "df_1"
   ]
  }
 ],
 "metadata": {
  "kernelspec": {
   "display_name": "Python 3",
   "language": "python",
   "name": "python3"
  },
  "language_info": {
   "codemirror_mode": {
    "name": "ipython",
    "version": 3
   },
   "file_extension": ".py",
   "mimetype": "text/x-python",
   "name": "python",
   "nbconvert_exporter": "python",
   "pygments_lexer": "ipython3",
   "version": "3.8.3"
  }
 },
 "nbformat": 4,
 "nbformat_minor": 4
}
